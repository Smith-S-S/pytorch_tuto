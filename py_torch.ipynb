{
  "nbformat": 4,
  "nbformat_minor": 0,
  "metadata": {
    "colab": {
      "provenance": [],
      "gpuType": "T4",
      "authorship_tag": "ABX9TyOJBQaSsK79CNYxgF1p8w3D",
      "include_colab_link": true
    },
    "kernelspec": {
      "name": "python3",
      "display_name": "Python 3"
    },
    "language_info": {
      "name": "python"
    },
    "accelerator": "GPU"
  },
  "cells": [
    {
      "cell_type": "markdown",
      "metadata": {
        "id": "view-in-github",
        "colab_type": "text"
      },
      "source": [
        "<a href=\"https://colab.research.google.com/github/Smith-S-S/pytorch_tuto/blob/main/py_torch.ipynb\" target=\"_parent\"><img src=\"https://colab.research.google.com/assets/colab-badge.svg\" alt=\"Open In Colab\"/></a>"
      ]
    },
    {
      "cell_type": "markdown",
      "source": [
        "PyTorch"
      ],
      "metadata": {
        "id": "oE2JpiOH7E8o"
      }
    },
    {
      "cell_type": "code",
      "execution_count": 19,
      "metadata": {
        "id": "R_zSNANt7Dd8",
        "colab": {
          "base_uri": "https://localhost:8080/"
        },
        "outputId": "c791a6b4-149e-4371-b098-0898331bb26e"
      },
      "outputs": [
        {
          "output_type": "execute_result",
          "data": {
            "text/plain": [
              "4"
            ]
          },
          "metadata": {},
          "execution_count": 19
        }
      ],
      "source": [
        "2 + 2"
      ]
    },
    {
      "cell_type": "code",
      "source": [
        "import torch"
      ],
      "metadata": {
        "id": "uxUeolkFYBuY"
      },
      "execution_count": 20,
      "outputs": []
    },
    {
      "cell_type": "markdown",
      "source": [
        "# **Basic operations**"
      ],
      "metadata": {
        "id": "Gg325TUMZsm3"
      }
    },
    {
      "cell_type": "code",
      "source": [
        "torch_1 = torch.arange(4)\n",
        "torch_1"
      ],
      "metadata": {
        "colab": {
          "base_uri": "https://localhost:8080/"
        },
        "id": "-IwJAKF0YE7q",
        "outputId": "273c4e35-d772-4ff0-8b82-e2ef6431d5f1"
      },
      "execution_count": 21,
      "outputs": [
        {
          "output_type": "execute_result",
          "data": {
            "text/plain": [
              "tensor([0, 1, 2, 3])"
            ]
          },
          "metadata": {},
          "execution_count": 21
        }
      ]
    },
    {
      "cell_type": "code",
      "source": [
        "# reshape\n",
        "torch_1.reshape(2,2)"
      ],
      "metadata": {
        "id": "T6hmC3vFZ1LD",
        "outputId": "dc52c2fc-8d74-457e-ae07-f022b9aa7e04",
        "colab": {
          "base_uri": "https://localhost:8080/"
        }
      },
      "execution_count": 22,
      "outputs": [
        {
          "output_type": "execute_result",
          "data": {
            "text/plain": [
              "tensor([[0, 1],\n",
              "        [2, 3]])"
            ]
          },
          "metadata": {},
          "execution_count": 22
        }
      ]
    },
    {
      "cell_type": "code",
      "source": [
        "torch_2 = torch.arange(12)\n",
        "torch_2"
      ],
      "metadata": {
        "id": "35WRTv2EZ_34",
        "outputId": "d1999b7a-e840-490e-f94f-4360c8db627f",
        "colab": {
          "base_uri": "https://localhost:8080/"
        }
      },
      "execution_count": 23,
      "outputs": [
        {
          "output_type": "execute_result",
          "data": {
            "text/plain": [
              "tensor([ 0,  1,  2,  3,  4,  5,  6,  7,  8,  9, 10, 11])"
            ]
          },
          "metadata": {},
          "execution_count": 23
        }
      ]
    },
    {
      "cell_type": "code",
      "source": [
        "# need to reshape using -1\n",
        "\n",
        "r_1 = torch_2.reshape(2,-1)\n",
        "r_2 = torch_2.reshape(3,-1)\n",
        "r_3 = torch_2.reshape(4,-1)\n",
        "\n",
        "print(r_1)\n",
        "print()\n",
        "print(r_2)\n",
        "print()\n",
        "print(r_3)\n",
        "print(\"-----changing the row-----\")\n",
        "r_4 = torch_2.reshape(-1,2)\n",
        "print(r_4)"
      ],
      "metadata": {
        "id": "Pnw6OTUZaei5",
        "outputId": "79db44a7-0790-4f80-9042-38aadcc8f6ff",
        "colab": {
          "base_uri": "https://localhost:8080/"
        }
      },
      "execution_count": 24,
      "outputs": [
        {
          "output_type": "stream",
          "name": "stdout",
          "text": [
            "tensor([[ 0,  1,  2,  3,  4,  5],\n",
            "        [ 6,  7,  8,  9, 10, 11]])\n",
            "\n",
            "tensor([[ 0,  1,  2,  3],\n",
            "        [ 4,  5,  6,  7],\n",
            "        [ 8,  9, 10, 11]])\n",
            "\n",
            "tensor([[ 0,  1,  2],\n",
            "        [ 3,  4,  5],\n",
            "        [ 6,  7,  8],\n",
            "        [ 9, 10, 11]])\n",
            "-----changing the row-----\n",
            "tensor([[ 0,  1],\n",
            "        [ 2,  3],\n",
            "        [ 4,  5],\n",
            "        [ 6,  7],\n",
            "        [ 8,  9],\n",
            "        [10, 11]])\n"
          ]
        }
      ]
    },
    {
      "cell_type": "code",
      "source": [
        "# if we update any of the orginal variable it changes the full"
      ],
      "metadata": {
        "id": "ZnE38HLhalMI"
      },
      "execution_count": 25,
      "outputs": []
    },
    {
      "cell_type": "code",
      "source": [
        "print(r_3)\n",
        "\n",
        "r_3[1] = 44\n",
        "r_3"
      ],
      "metadata": {
        "id": "HxenuKItcLfE",
        "outputId": "3c283140-3582-4a2c-dd1b-fef463eef10a",
        "colab": {
          "base_uri": "https://localhost:8080/"
        }
      },
      "execution_count": 26,
      "outputs": [
        {
          "output_type": "stream",
          "name": "stdout",
          "text": [
            "tensor([[ 0,  1,  2],\n",
            "        [ 3,  4,  5],\n",
            "        [ 6,  7,  8],\n",
            "        [ 9, 10, 11]])\n"
          ]
        },
        {
          "output_type": "execute_result",
          "data": {
            "text/plain": [
              "tensor([[ 0,  1,  2],\n",
              "        [44, 44, 44],\n",
              "        [ 6,  7,  8],\n",
              "        [ 9, 10, 11]])"
            ]
          },
          "metadata": {},
          "execution_count": 26
        }
      ]
    },
    {
      "cell_type": "code",
      "source": [
        "s = torch.arange(6)\n",
        "s[0] = 55\n",
        "s = s.reshape(2,-1)\n",
        "s"
      ],
      "metadata": {
        "id": "eeIbCnuGcjXp",
        "outputId": "2245231b-8175-4358-f9ea-7ddc4ae224cc",
        "colab": {
          "base_uri": "https://localhost:8080/"
        }
      },
      "execution_count": 27,
      "outputs": [
        {
          "output_type": "execute_result",
          "data": {
            "text/plain": [
              "tensor([[55,  1,  2],\n",
              "        [ 3,  4,  5]])"
            ]
          },
          "metadata": {},
          "execution_count": 27
        }
      ]
    },
    {
      "cell_type": "code",
      "source": [
        "s[:,0:]"
      ],
      "metadata": {
        "id": "VHb4ZFsGcoTO",
        "outputId": "bf73bc2c-b065-4b90-ecb0-1cb0ed196dbb",
        "colab": {
          "base_uri": "https://localhost:8080/"
        }
      },
      "execution_count": 28,
      "outputs": [
        {
          "output_type": "execute_result",
          "data": {
            "text/plain": [
              "tensor([[55,  1,  2],\n",
              "        [ 3,  4,  5]])"
            ]
          },
          "metadata": {},
          "execution_count": 28
        }
      ]
    },
    {
      "cell_type": "code",
      "source": [
        "sm = torch.arange(6)\n",
        "sm = sm.reshape(2,3)\n",
        "sm"
      ],
      "metadata": {
        "id": "OAIsz9cmcutq",
        "outputId": "8c59a820-1272-45c8-d68f-a4d143de9206",
        "colab": {
          "base_uri": "https://localhost:8080/"
        }
      },
      "execution_count": 29,
      "outputs": [
        {
          "output_type": "execute_result",
          "data": {
            "text/plain": [
              "tensor([[0, 1, 2],\n",
              "        [3, 4, 5]])"
            ]
          },
          "metadata": {},
          "execution_count": 29
        }
      ]
    },
    {
      "cell_type": "code",
      "source": [
        "torch.add(s,sm)"
      ],
      "metadata": {
        "id": "rr0j4tdrd65F",
        "outputId": "b8192e2c-ae81-4d42-aa07-c06678d109b1",
        "colab": {
          "base_uri": "https://localhost:8080/"
        }
      },
      "execution_count": 30,
      "outputs": [
        {
          "output_type": "execute_result",
          "data": {
            "text/plain": [
              "tensor([[55,  2,  4],\n",
              "        [ 6,  8, 10]])"
            ]
          },
          "metadata": {},
          "execution_count": 30
        }
      ]
    },
    {
      "cell_type": "code",
      "source": [
        "torch.multiply(s,sm)"
      ],
      "metadata": {
        "id": "DxXGfh4keJGy",
        "outputId": "77560a11-c8c1-4584-e6c2-eb7d3881da94",
        "colab": {
          "base_uri": "https://localhost:8080/"
        }
      },
      "execution_count": 31,
      "outputs": [
        {
          "output_type": "execute_result",
          "data": {
            "text/plain": [
              "tensor([[ 0,  1,  4],\n",
              "        [ 9, 16, 25]])"
            ]
          },
          "metadata": {},
          "execution_count": 31
        }
      ]
    },
    {
      "cell_type": "code",
      "source": [
        "torch.mul(s,sm)"
      ],
      "metadata": {
        "id": "dbtOMxFieudw",
        "outputId": "609181b7-b507-4b52-e733-9240ac53f1f8",
        "colab": {
          "base_uri": "https://localhost:8080/"
        }
      },
      "execution_count": 32,
      "outputs": [
        {
          "output_type": "execute_result",
          "data": {
            "text/plain": [
              "tensor([[ 0,  1,  4],\n",
              "        [ 9, 16, 25]])"
            ]
          },
          "metadata": {},
          "execution_count": 32
        }
      ]
    },
    {
      "cell_type": "code",
      "source": [
        "torch.div(s,sm)"
      ],
      "metadata": {
        "id": "c7QEYH9IeyGD",
        "outputId": "5e60099d-d8c3-49db-e95f-501a753b8b7e",
        "colab": {
          "base_uri": "https://localhost:8080/"
        }
      },
      "execution_count": 33,
      "outputs": [
        {
          "output_type": "execute_result",
          "data": {
            "text/plain": [
              "tensor([[inf, 1., 1.],\n",
              "        [1., 1., 1.]])"
            ]
          },
          "metadata": {},
          "execution_count": 33
        }
      ]
    },
    {
      "cell_type": "code",
      "source": [
        "torch.remainder(sm,s)"
      ],
      "metadata": {
        "id": "7ohei8V4fO0P",
        "outputId": "26c0e092-4f21-4d3c-849f-31338f45404c",
        "colab": {
          "base_uri": "https://localhost:8080/"
        }
      },
      "execution_count": 34,
      "outputs": [
        {
          "output_type": "execute_result",
          "data": {
            "text/plain": [
              "tensor([[0, 0, 0],\n",
              "        [0, 0, 0]])"
            ]
          },
          "metadata": {},
          "execution_count": 34
        }
      ]
    },
    {
      "cell_type": "code",
      "source": [],
      "metadata": {
        "id": "5bqn5HtIfYKO"
      },
      "execution_count": 34,
      "outputs": []
    },
    {
      "cell_type": "code",
      "source": [
        "result = torch.zeros_like(s, dtype=s.dtype)  # Create a tensor of zeros with the same shape and type as s\n",
        "result"
      ],
      "metadata": {
        "id": "1DsWkK0ifoB9",
        "outputId": "376cfa10-f38c-4eda-c822-d07cc5b60d86",
        "colab": {
          "base_uri": "https://localhost:8080/"
        }
      },
      "execution_count": 35,
      "outputs": [
        {
          "output_type": "execute_result",
          "data": {
            "text/plain": [
              "tensor([[0, 0, 0],\n",
              "        [0, 0, 0]])"
            ]
          },
          "metadata": {},
          "execution_count": 35
        }
      ]
    },
    {
      "cell_type": "code",
      "source": [
        "\n",
        "mask = sm != 0  # Create a mask where elements are True if sm is not 0, otherwise False\n",
        "mask"
      ],
      "metadata": {
        "id": "jWVE6XJDgLYJ",
        "outputId": "1756baf8-123c-4d6c-e1ec-1d818daf6300",
        "colab": {
          "base_uri": "https://localhost:8080/"
        }
      },
      "execution_count": 36,
      "outputs": [
        {
          "output_type": "execute_result",
          "data": {
            "text/plain": [
              "tensor([[False,  True,  True],\n",
              "        [ True,  True,  True]])"
            ]
          },
          "metadata": {},
          "execution_count": 36
        }
      ]
    },
    {
      "cell_type": "code",
      "source": [
        "result[mask] = torch.remainder(s[mask], sm[mask])  # Calculate the remainder only for elements where sm is not 0\n",
        "\n",
        "print(result)"
      ],
      "metadata": {
        "id": "9-QGCFzRgKor",
        "outputId": "152f83f0-c0d5-4e6d-c022-ac78d6a12401",
        "colab": {
          "base_uri": "https://localhost:8080/"
        }
      },
      "execution_count": 37,
      "outputs": [
        {
          "output_type": "stream",
          "name": "stdout",
          "text": [
            "tensor([[0, 0, 0],\n",
            "        [0, 0, 0]])\n"
          ]
        }
      ]
    },
    {
      "cell_type": "code",
      "source": [
        "s[mask]"
      ],
      "metadata": {
        "id": "dOrESnWhgT8e",
        "outputId": "137f3294-6ccf-4438-f1c6-22b75bff47ab",
        "colab": {
          "base_uri": "https://localhost:8080/"
        }
      },
      "execution_count": 38,
      "outputs": [
        {
          "output_type": "execute_result",
          "data": {
            "text/plain": [
              "tensor([1, 2, 3, 4, 5])"
            ]
          },
          "metadata": {},
          "execution_count": 38
        }
      ]
    },
    {
      "cell_type": "code",
      "source": [
        "s"
      ],
      "metadata": {
        "id": "4_SR5VqRgh3w",
        "outputId": "7316c993-99b3-4902-ec30-d294f73b9ada",
        "colab": {
          "base_uri": "https://localhost:8080/"
        }
      },
      "execution_count": 39,
      "outputs": [
        {
          "output_type": "execute_result",
          "data": {
            "text/plain": [
              "tensor([[55,  1,  2],\n",
              "        [ 3,  4,  5]])"
            ]
          },
          "metadata": {},
          "execution_count": 39
        }
      ]
    },
    {
      "cell_type": "code",
      "source": [
        "sm[mask]"
      ],
      "metadata": {
        "id": "GSswdnm9gkWu",
        "outputId": "ed6b2aad-9ccc-4e20-efde-319c334aa83c",
        "colab": {
          "base_uri": "https://localhost:8080/"
        }
      },
      "execution_count": 40,
      "outputs": [
        {
          "output_type": "execute_result",
          "data": {
            "text/plain": [
              "tensor([1, 2, 3, 4, 5])"
            ]
          },
          "metadata": {},
          "execution_count": 40
        }
      ]
    },
    {
      "cell_type": "code",
      "source": [
        "sm"
      ],
      "metadata": {
        "id": "BrfCTOmMgplp",
        "outputId": "ebdbb1e3-631f-4d2f-ba0f-efa8e355e10b",
        "colab": {
          "base_uri": "https://localhost:8080/"
        }
      },
      "execution_count": 41,
      "outputs": [
        {
          "output_type": "execute_result",
          "data": {
            "text/plain": [
              "tensor([[0, 1, 2],\n",
              "        [3, 4, 5]])"
            ]
          },
          "metadata": {},
          "execution_count": 41
        }
      ]
    },
    {
      "cell_type": "code",
      "source": [
        "# add and asign the result on the val\n",
        "print(s,\"\\n\")\n",
        "s.add_(sm)\n",
        "print(s)"
      ],
      "metadata": {
        "id": "N72r5JUlgrGq",
        "outputId": "a6e3a5cd-a9d3-4693-fbf7-957159b15f28",
        "colab": {
          "base_uri": "https://localhost:8080/"
        }
      },
      "execution_count": 42,
      "outputs": [
        {
          "output_type": "stream",
          "name": "stdout",
          "text": [
            "tensor([[55,  1,  2],\n",
            "        [ 3,  4,  5]]) \n",
            "\n",
            "tensor([[55,  2,  4],\n",
            "        [ 6,  8, 10]])\n"
          ]
        }
      ]
    },
    {
      "cell_type": "markdown",
      "source": [
        "# NN MOdel"
      ],
      "metadata": {
        "id": "bP93uDYPhuFz"
      }
    },
    {
      "cell_type": "markdown",
      "source": [
        "## simple iris classification\n",
        "\n",
        "```\n",
        "The feature (input) we are passing in to the nn\n",
        "```\n",
        "\n",
        "![image.png](data:image/png;base64,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)\n",
        "\n"
      ],
      "metadata": {
        "id": "lJ4-s7Xeh8TA"
      }
    },
    {
      "cell_type": "code",
      "source": [
        "import torch.nn as nn\n",
        "import torch.nn.functional as F # helps to move the data forward"
      ],
      "metadata": {
        "id": "OLEzTv2MhZ8x"
      },
      "execution_count": 43,
      "outputs": []
    },
    {
      "cell_type": "code",
      "source": [
        "class Model(nn.Module):\n",
        "  # we are passing 4 features ----> hiddden layes (h1) ---> output with [3 classification]\n",
        "  def __init__(self, input_s = 4, h1 = 8, output_s  = 3):\n",
        "    super().__init__()\n",
        "    # 1st input layer (fully connected)\n",
        "    self.fc1 = nn.Linear(input_s, h1) # moving the input to h1\n",
        "    self.out1 = nn.Linear(h1, output_s)\n",
        "\n",
        "  def forward_pass(self, x):\n",
        "    x = F.relu(self.fc1(x))\n",
        "    x = self.out(x)\n",
        "    return x\n",
        "\n"
      ],
      "metadata": {
        "id": "cTzA85_bjeHK"
      },
      "execution_count": 59,
      "outputs": []
    },
    {
      "cell_type": "code",
      "source": [
        "torch.manual_seed(41) # seting randomaisation\n",
        "model =  Model()"
      ],
      "metadata": {
        "id": "kKVCdehekvf-"
      },
      "execution_count": 45,
      "outputs": []
    },
    {
      "cell_type": "markdown",
      "source": [
        "### time to create the dataset"
      ],
      "metadata": {
        "id": "WFYdC0l1vCo6"
      }
    },
    {
      "cell_type": "code",
      "source": [
        "import matplotlib.pyplot as plt\n",
        "%matplotlib inline\n",
        "import pandas as pd"
      ],
      "metadata": {
        "id": "PSMNeLmPowI9"
      },
      "execution_count": 46,
      "outputs": []
    },
    {
      "cell_type": "code",
      "source": [
        "dataset_url = \"https://gist.githubusercontent.com/netj/8836201/raw/6f9306ad21398ea43cba4f7d537619d0e07d5ae3/iris.csv\"\n",
        "my_df = pd.read_csv(dataset_url)"
      ],
      "metadata": {
        "id": "4Yw_xnqHqFHe"
      },
      "execution_count": 47,
      "outputs": []
    },
    {
      "cell_type": "code",
      "source": [
        "my_df"
      ],
      "metadata": {
        "id": "E7Xwfkx0vrmO",
        "outputId": "159a7c9b-7827-4c04-9219-fc8c458d6e1b",
        "colab": {
          "base_uri": "https://localhost:8080/",
          "height": 423
        }
      },
      "execution_count": 48,
      "outputs": [
        {
          "output_type": "execute_result",
          "data": {
            "text/plain": [
              "     sepal.length  sepal.width  petal.length  petal.width    variety\n",
              "0             5.1          3.5           1.4          0.2     Setosa\n",
              "1             4.9          3.0           1.4          0.2     Setosa\n",
              "2             4.7          3.2           1.3          0.2     Setosa\n",
              "3             4.6          3.1           1.5          0.2     Setosa\n",
              "4             5.0          3.6           1.4          0.2     Setosa\n",
              "..            ...          ...           ...          ...        ...\n",
              "145           6.7          3.0           5.2          2.3  Virginica\n",
              "146           6.3          2.5           5.0          1.9  Virginica\n",
              "147           6.5          3.0           5.2          2.0  Virginica\n",
              "148           6.2          3.4           5.4          2.3  Virginica\n",
              "149           5.9          3.0           5.1          1.8  Virginica\n",
              "\n",
              "[150 rows x 5 columns]"
            ],
            "text/html": [
              "\n",
              "  <div id=\"df-c2d75574-877c-4daf-b9d7-ff3ae73c791e\" class=\"colab-df-container\">\n",
              "    <div>\n",
              "<style scoped>\n",
              "    .dataframe tbody tr th:only-of-type {\n",
              "        vertical-align: middle;\n",
              "    }\n",
              "\n",
              "    .dataframe tbody tr th {\n",
              "        vertical-align: top;\n",
              "    }\n",
              "\n",
              "    .dataframe thead th {\n",
              "        text-align: right;\n",
              "    }\n",
              "</style>\n",
              "<table border=\"1\" class=\"dataframe\">\n",
              "  <thead>\n",
              "    <tr style=\"text-align: right;\">\n",
              "      <th></th>\n",
              "      <th>sepal.length</th>\n",
              "      <th>sepal.width</th>\n",
              "      <th>petal.length</th>\n",
              "      <th>petal.width</th>\n",
              "      <th>variety</th>\n",
              "    </tr>\n",
              "  </thead>\n",
              "  <tbody>\n",
              "    <tr>\n",
              "      <th>0</th>\n",
              "      <td>5.1</td>\n",
              "      <td>3.5</td>\n",
              "      <td>1.4</td>\n",
              "      <td>0.2</td>\n",
              "      <td>Setosa</td>\n",
              "    </tr>\n",
              "    <tr>\n",
              "      <th>1</th>\n",
              "      <td>4.9</td>\n",
              "      <td>3.0</td>\n",
              "      <td>1.4</td>\n",
              "      <td>0.2</td>\n",
              "      <td>Setosa</td>\n",
              "    </tr>\n",
              "    <tr>\n",
              "      <th>2</th>\n",
              "      <td>4.7</td>\n",
              "      <td>3.2</td>\n",
              "      <td>1.3</td>\n",
              "      <td>0.2</td>\n",
              "      <td>Setosa</td>\n",
              "    </tr>\n",
              "    <tr>\n",
              "      <th>3</th>\n",
              "      <td>4.6</td>\n",
              "      <td>3.1</td>\n",
              "      <td>1.5</td>\n",
              "      <td>0.2</td>\n",
              "      <td>Setosa</td>\n",
              "    </tr>\n",
              "    <tr>\n",
              "      <th>4</th>\n",
              "      <td>5.0</td>\n",
              "      <td>3.6</td>\n",
              "      <td>1.4</td>\n",
              "      <td>0.2</td>\n",
              "      <td>Setosa</td>\n",
              "    </tr>\n",
              "    <tr>\n",
              "      <th>...</th>\n",
              "      <td>...</td>\n",
              "      <td>...</td>\n",
              "      <td>...</td>\n",
              "      <td>...</td>\n",
              "      <td>...</td>\n",
              "    </tr>\n",
              "    <tr>\n",
              "      <th>145</th>\n",
              "      <td>6.7</td>\n",
              "      <td>3.0</td>\n",
              "      <td>5.2</td>\n",
              "      <td>2.3</td>\n",
              "      <td>Virginica</td>\n",
              "    </tr>\n",
              "    <tr>\n",
              "      <th>146</th>\n",
              "      <td>6.3</td>\n",
              "      <td>2.5</td>\n",
              "      <td>5.0</td>\n",
              "      <td>1.9</td>\n",
              "      <td>Virginica</td>\n",
              "    </tr>\n",
              "    <tr>\n",
              "      <th>147</th>\n",
              "      <td>6.5</td>\n",
              "      <td>3.0</td>\n",
              "      <td>5.2</td>\n",
              "      <td>2.0</td>\n",
              "      <td>Virginica</td>\n",
              "    </tr>\n",
              "    <tr>\n",
              "      <th>148</th>\n",
              "      <td>6.2</td>\n",
              "      <td>3.4</td>\n",
              "      <td>5.4</td>\n",
              "      <td>2.3</td>\n",
              "      <td>Virginica</td>\n",
              "    </tr>\n",
              "    <tr>\n",
              "      <th>149</th>\n",
              "      <td>5.9</td>\n",
              "      <td>3.0</td>\n",
              "      <td>5.1</td>\n",
              "      <td>1.8</td>\n",
              "      <td>Virginica</td>\n",
              "    </tr>\n",
              "  </tbody>\n",
              "</table>\n",
              "<p>150 rows × 5 columns</p>\n",
              "</div>\n",
              "    <div class=\"colab-df-buttons\">\n",
              "\n",
              "  <div class=\"colab-df-container\">\n",
              "    <button class=\"colab-df-convert\" onclick=\"convertToInteractive('df-c2d75574-877c-4daf-b9d7-ff3ae73c791e')\"\n",
              "            title=\"Convert this dataframe to an interactive table.\"\n",
              "            style=\"display:none;\">\n",
              "\n",
              "  <svg xmlns=\"http://www.w3.org/2000/svg\" height=\"24px\" viewBox=\"0 -960 960 960\">\n",
              "    <path d=\"M120-120v-720h720v720H120Zm60-500h600v-160H180v160Zm220 220h160v-160H400v160Zm0 220h160v-160H400v160ZM180-400h160v-160H180v160Zm440 0h160v-160H620v160ZM180-180h160v-160H180v160Zm440 0h160v-160H620v160Z\"/>\n",
              "  </svg>\n",
              "    </button>\n",
              "\n",
              "  <style>\n",
              "    .colab-df-container {\n",
              "      display:flex;\n",
              "      gap: 12px;\n",
              "    }\n",
              "\n",
              "    .colab-df-convert {\n",
              "      background-color: #E8F0FE;\n",
              "      border: none;\n",
              "      border-radius: 50%;\n",
              "      cursor: pointer;\n",
              "      display: none;\n",
              "      fill: #1967D2;\n",
              "      height: 32px;\n",
              "      padding: 0 0 0 0;\n",
              "      width: 32px;\n",
              "    }\n",
              "\n",
              "    .colab-df-convert:hover {\n",
              "      background-color: #E2EBFA;\n",
              "      box-shadow: 0px 1px 2px rgba(60, 64, 67, 0.3), 0px 1px 3px 1px rgba(60, 64, 67, 0.15);\n",
              "      fill: #174EA6;\n",
              "    }\n",
              "\n",
              "    .colab-df-buttons div {\n",
              "      margin-bottom: 4px;\n",
              "    }\n",
              "\n",
              "    [theme=dark] .colab-df-convert {\n",
              "      background-color: #3B4455;\n",
              "      fill: #D2E3FC;\n",
              "    }\n",
              "\n",
              "    [theme=dark] .colab-df-convert:hover {\n",
              "      background-color: #434B5C;\n",
              "      box-shadow: 0px 1px 3px 1px rgba(0, 0, 0, 0.15);\n",
              "      filter: drop-shadow(0px 1px 2px rgba(0, 0, 0, 0.3));\n",
              "      fill: #FFFFFF;\n",
              "    }\n",
              "  </style>\n",
              "\n",
              "    <script>\n",
              "      const buttonEl =\n",
              "        document.querySelector('#df-c2d75574-877c-4daf-b9d7-ff3ae73c791e button.colab-df-convert');\n",
              "      buttonEl.style.display =\n",
              "        google.colab.kernel.accessAllowed ? 'block' : 'none';\n",
              "\n",
              "      async function convertToInteractive(key) {\n",
              "        const element = document.querySelector('#df-c2d75574-877c-4daf-b9d7-ff3ae73c791e');\n",
              "        const dataTable =\n",
              "          await google.colab.kernel.invokeFunction('convertToInteractive',\n",
              "                                                    [key], {});\n",
              "        if (!dataTable) return;\n",
              "\n",
              "        const docLinkHtml = 'Like what you see? Visit the ' +\n",
              "          '<a target=\"_blank\" href=https://colab.research.google.com/notebooks/data_table.ipynb>data table notebook</a>'\n",
              "          + ' to learn more about interactive tables.';\n",
              "        element.innerHTML = '';\n",
              "        dataTable['output_type'] = 'display_data';\n",
              "        await google.colab.output.renderOutput(dataTable, element);\n",
              "        const docLink = document.createElement('div');\n",
              "        docLink.innerHTML = docLinkHtml;\n",
              "        element.appendChild(docLink);\n",
              "      }\n",
              "    </script>\n",
              "  </div>\n",
              "\n",
              "\n",
              "<div id=\"df-97978f8e-3183-4a10-a9df-6fe8ace31769\">\n",
              "  <button class=\"colab-df-quickchart\" onclick=\"quickchart('df-97978f8e-3183-4a10-a9df-6fe8ace31769')\"\n",
              "            title=\"Suggest charts\"\n",
              "            style=\"display:none;\">\n",
              "\n",
              "<svg xmlns=\"http://www.w3.org/2000/svg\" height=\"24px\"viewBox=\"0 0 24 24\"\n",
              "     width=\"24px\">\n",
              "    <g>\n",
              "        <path d=\"M19 3H5c-1.1 0-2 .9-2 2v14c0 1.1.9 2 2 2h14c1.1 0 2-.9 2-2V5c0-1.1-.9-2-2-2zM9 17H7v-7h2v7zm4 0h-2V7h2v10zm4 0h-2v-4h2v4z\"/>\n",
              "    </g>\n",
              "</svg>\n",
              "  </button>\n",
              "\n",
              "<style>\n",
              "  .colab-df-quickchart {\n",
              "      --bg-color: #E8F0FE;\n",
              "      --fill-color: #1967D2;\n",
              "      --hover-bg-color: #E2EBFA;\n",
              "      --hover-fill-color: #174EA6;\n",
              "      --disabled-fill-color: #AAA;\n",
              "      --disabled-bg-color: #DDD;\n",
              "  }\n",
              "\n",
              "  [theme=dark] .colab-df-quickchart {\n",
              "      --bg-color: #3B4455;\n",
              "      --fill-color: #D2E3FC;\n",
              "      --hover-bg-color: #434B5C;\n",
              "      --hover-fill-color: #FFFFFF;\n",
              "      --disabled-bg-color: #3B4455;\n",
              "      --disabled-fill-color: #666;\n",
              "  }\n",
              "\n",
              "  .colab-df-quickchart {\n",
              "    background-color: var(--bg-color);\n",
              "    border: none;\n",
              "    border-radius: 50%;\n",
              "    cursor: pointer;\n",
              "    display: none;\n",
              "    fill: var(--fill-color);\n",
              "    height: 32px;\n",
              "    padding: 0;\n",
              "    width: 32px;\n",
              "  }\n",
              "\n",
              "  .colab-df-quickchart:hover {\n",
              "    background-color: var(--hover-bg-color);\n",
              "    box-shadow: 0 1px 2px rgba(60, 64, 67, 0.3), 0 1px 3px 1px rgba(60, 64, 67, 0.15);\n",
              "    fill: var(--button-hover-fill-color);\n",
              "  }\n",
              "\n",
              "  .colab-df-quickchart-complete:disabled,\n",
              "  .colab-df-quickchart-complete:disabled:hover {\n",
              "    background-color: var(--disabled-bg-color);\n",
              "    fill: var(--disabled-fill-color);\n",
              "    box-shadow: none;\n",
              "  }\n",
              "\n",
              "  .colab-df-spinner {\n",
              "    border: 2px solid var(--fill-color);\n",
              "    border-color: transparent;\n",
              "    border-bottom-color: var(--fill-color);\n",
              "    animation:\n",
              "      spin 1s steps(1) infinite;\n",
              "  }\n",
              "\n",
              "  @keyframes spin {\n",
              "    0% {\n",
              "      border-color: transparent;\n",
              "      border-bottom-color: var(--fill-color);\n",
              "      border-left-color: var(--fill-color);\n",
              "    }\n",
              "    20% {\n",
              "      border-color: transparent;\n",
              "      border-left-color: var(--fill-color);\n",
              "      border-top-color: var(--fill-color);\n",
              "    }\n",
              "    30% {\n",
              "      border-color: transparent;\n",
              "      border-left-color: var(--fill-color);\n",
              "      border-top-color: var(--fill-color);\n",
              "      border-right-color: var(--fill-color);\n",
              "    }\n",
              "    40% {\n",
              "      border-color: transparent;\n",
              "      border-right-color: var(--fill-color);\n",
              "      border-top-color: var(--fill-color);\n",
              "    }\n",
              "    60% {\n",
              "      border-color: transparent;\n",
              "      border-right-color: var(--fill-color);\n",
              "    }\n",
              "    80% {\n",
              "      border-color: transparent;\n",
              "      border-right-color: var(--fill-color);\n",
              "      border-bottom-color: var(--fill-color);\n",
              "    }\n",
              "    90% {\n",
              "      border-color: transparent;\n",
              "      border-bottom-color: var(--fill-color);\n",
              "    }\n",
              "  }\n",
              "</style>\n",
              "\n",
              "  <script>\n",
              "    async function quickchart(key) {\n",
              "      const quickchartButtonEl =\n",
              "        document.querySelector('#' + key + ' button');\n",
              "      quickchartButtonEl.disabled = true;  // To prevent multiple clicks.\n",
              "      quickchartButtonEl.classList.add('colab-df-spinner');\n",
              "      try {\n",
              "        const charts = await google.colab.kernel.invokeFunction(\n",
              "            'suggestCharts', [key], {});\n",
              "      } catch (error) {\n",
              "        console.error('Error during call to suggestCharts:', error);\n",
              "      }\n",
              "      quickchartButtonEl.classList.remove('colab-df-spinner');\n",
              "      quickchartButtonEl.classList.add('colab-df-quickchart-complete');\n",
              "    }\n",
              "    (() => {\n",
              "      let quickchartButtonEl =\n",
              "        document.querySelector('#df-97978f8e-3183-4a10-a9df-6fe8ace31769 button');\n",
              "      quickchartButtonEl.style.display =\n",
              "        google.colab.kernel.accessAllowed ? 'block' : 'none';\n",
              "    })();\n",
              "  </script>\n",
              "</div>\n",
              "\n",
              "  <div id=\"id_f76b29e6-c30b-41c6-b21e-58b3377125e7\">\n",
              "    <style>\n",
              "      .colab-df-generate {\n",
              "        background-color: #E8F0FE;\n",
              "        border: none;\n",
              "        border-radius: 50%;\n",
              "        cursor: pointer;\n",
              "        display: none;\n",
              "        fill: #1967D2;\n",
              "        height: 32px;\n",
              "        padding: 0 0 0 0;\n",
              "        width: 32px;\n",
              "      }\n",
              "\n",
              "      .colab-df-generate:hover {\n",
              "        background-color: #E2EBFA;\n",
              "        box-shadow: 0px 1px 2px rgba(60, 64, 67, 0.3), 0px 1px 3px 1px rgba(60, 64, 67, 0.15);\n",
              "        fill: #174EA6;\n",
              "      }\n",
              "\n",
              "      [theme=dark] .colab-df-generate {\n",
              "        background-color: #3B4455;\n",
              "        fill: #D2E3FC;\n",
              "      }\n",
              "\n",
              "      [theme=dark] .colab-df-generate:hover {\n",
              "        background-color: #434B5C;\n",
              "        box-shadow: 0px 1px 3px 1px rgba(0, 0, 0, 0.15);\n",
              "        filter: drop-shadow(0px 1px 2px rgba(0, 0, 0, 0.3));\n",
              "        fill: #FFFFFF;\n",
              "      }\n",
              "    </style>\n",
              "    <button class=\"colab-df-generate\" onclick=\"generateWithVariable('my_df')\"\n",
              "            title=\"Generate code using this dataframe.\"\n",
              "            style=\"display:none;\">\n",
              "\n",
              "  <svg xmlns=\"http://www.w3.org/2000/svg\" height=\"24px\"viewBox=\"0 0 24 24\"\n",
              "       width=\"24px\">\n",
              "    <path d=\"M7,19H8.4L18.45,9,17,7.55,7,17.6ZM5,21V16.75L18.45,3.32a2,2,0,0,1,2.83,0l1.4,1.43a1.91,1.91,0,0,1,.58,1.4,1.91,1.91,0,0,1-.58,1.4L9.25,21ZM18.45,9,17,7.55Zm-12,3A5.31,5.31,0,0,0,4.9,8.1,5.31,5.31,0,0,0,1,6.5,5.31,5.31,0,0,0,4.9,4.9,5.31,5.31,0,0,0,6.5,1,5.31,5.31,0,0,0,8.1,4.9,5.31,5.31,0,0,0,12,6.5,5.46,5.46,0,0,0,6.5,12Z\"/>\n",
              "  </svg>\n",
              "    </button>\n",
              "    <script>\n",
              "      (() => {\n",
              "      const buttonEl =\n",
              "        document.querySelector('#id_f76b29e6-c30b-41c6-b21e-58b3377125e7 button.colab-df-generate');\n",
              "      buttonEl.style.display =\n",
              "        google.colab.kernel.accessAllowed ? 'block' : 'none';\n",
              "\n",
              "      buttonEl.onclick = () => {\n",
              "        google.colab.notebook.generateWithVariable('my_df');\n",
              "      }\n",
              "      })();\n",
              "    </script>\n",
              "  </div>\n",
              "\n",
              "    </div>\n",
              "  </div>\n"
            ],
            "application/vnd.google.colaboratory.intrinsic+json": {
              "type": "dataframe",
              "variable_name": "my_df",
              "summary": "{\n  \"name\": \"my_df\",\n  \"rows\": 150,\n  \"fields\": [\n    {\n      \"column\": \"sepal.length\",\n      \"properties\": {\n        \"dtype\": \"number\",\n        \"std\": 0.8280661279778629,\n        \"min\": 4.3,\n        \"max\": 7.9,\n        \"num_unique_values\": 35,\n        \"samples\": [\n          6.2,\n          4.5,\n          5.6\n        ],\n        \"semantic_type\": \"\",\n        \"description\": \"\"\n      }\n    },\n    {\n      \"column\": \"sepal.width\",\n      \"properties\": {\n        \"dtype\": \"number\",\n        \"std\": 0.435866284936698,\n        \"min\": 2.0,\n        \"max\": 4.4,\n        \"num_unique_values\": 23,\n        \"samples\": [\n          2.3,\n          4.0,\n          3.5\n        ],\n        \"semantic_type\": \"\",\n        \"description\": \"\"\n      }\n    },\n    {\n      \"column\": \"petal.length\",\n      \"properties\": {\n        \"dtype\": \"number\",\n        \"std\": 1.7652982332594667,\n        \"min\": 1.0,\n        \"max\": 6.9,\n        \"num_unique_values\": 43,\n        \"samples\": [\n          6.7,\n          3.8,\n          3.7\n        ],\n        \"semantic_type\": \"\",\n        \"description\": \"\"\n      }\n    },\n    {\n      \"column\": \"petal.width\",\n      \"properties\": {\n        \"dtype\": \"number\",\n        \"std\": 0.7622376689603465,\n        \"min\": 0.1,\n        \"max\": 2.5,\n        \"num_unique_values\": 22,\n        \"samples\": [\n          0.2,\n          1.2,\n          1.3\n        ],\n        \"semantic_type\": \"\",\n        \"description\": \"\"\n      }\n    },\n    {\n      \"column\": \"variety\",\n      \"properties\": {\n        \"dtype\": \"category\",\n        \"num_unique_values\": 3,\n        \"samples\": [\n          \"Setosa\",\n          \"Versicolor\",\n          \"Virginica\"\n        ],\n        \"semantic_type\": \"\",\n        \"description\": \"\"\n      }\n    }\n  ]\n}"
            }
          },
          "metadata": {},
          "execution_count": 48
        }
      ]
    },
    {
      "source": [
        "# @title sepal.length\n",
        "\n",
        "from matplotlib import pyplot as plt\n",
        "my_df['sepal.length'].plot(kind='hist', bins=20, title='sepal.length')\n",
        "plt.gca().spines[['top', 'right',]].set_visible(False)"
      ],
      "cell_type": "code",
      "execution_count": 49,
      "outputs": [
        {
          "output_type": "display_data",
          "data": {
            "text/plain": [
              "<Figure size 640x480 with 1 Axes>"
            ],
            "image/png": "[encoded data removed]"
          },
          "metadata": {}
        }
      ],
      "metadata": {
        "cellView": "form",
        "collapsed": true,
        "id": "QByiRfd0v3Yg",
        "outputId": "4ba21709-63f6-4dd4-dd72-c7140aaf43b1",
        "colab": {
          "base_uri": "https://localhost:8080/",
          "height": 452
        }
      }
    },
    {
      "cell_type": "code",
      "source": [
        "my_df[\"variety\"] = my_df[\"variety\"].replace({\"Setosa\":0, \"Versicolor\":1, \"Virginica\":2})"
      ],
      "metadata": {
        "id": "baTxJ1Wwvtk2",
        "outputId": "a322107a-6b16-4041-ca6e-48804d39cbcc",
        "colab": {
          "base_uri": "https://localhost:8080/"
        }
      },
      "execution_count": 50,
      "outputs": [
        {
          "output_type": "stream",
          "name": "stderr",
          "text": [
            "<ipython-input-50-a7788e56f744>:1: FutureWarning: Downcasting behavior in `replace` is deprecated and will be removed in a future version. To retain the old behavior, explicitly call `result.infer_objects(copy=False)`. To opt-in to the future behavior, set `pd.set_option('future.no_silent_downcasting', True)`\n",
            "  my_df[\"variety\"] = my_df[\"variety\"].replace({\"Setosa\":0, \"Versicolor\":1, \"Virginica\":2})\n"
          ]
        }
      ]
    },
    {
      "cell_type": "code",
      "source": [
        "my_df"
      ],
      "metadata": {
        "id": "aKNAhigmwOoL",
        "outputId": "a86c7ef8-b013-4aa5-96f0-af63ffb57f59",
        "colab": {
          "base_uri": "https://localhost:8080/",
          "height": 423
        }
      },
      "execution_count": 51,
      "outputs": [
        {
          "output_type": "execute_result",
          "data": {
            "text/plain": [
              "     sepal.length  sepal.width  petal.length  petal.width  variety\n",
              "0             5.1          3.5           1.4          0.2        0\n",
              "1             4.9          3.0           1.4          0.2        0\n",
              "2             4.7          3.2           1.3          0.2        0\n",
              "3             4.6          3.1           1.5          0.2        0\n",
              "4             5.0          3.6           1.4          0.2        0\n",
              "..            ...          ...           ...          ...      ...\n",
              "145           6.7          3.0           5.2          2.3        2\n",
              "146           6.3          2.5           5.0          1.9        2\n",
              "147           6.5          3.0           5.2          2.0        2\n",
              "148           6.2          3.4           5.4          2.3        2\n",
              "149           5.9          3.0           5.1          1.8        2\n",
              "\n",
              "[150 rows x 5 columns]"
            ],
            "text/html": [
              "\n",
              "  <div id=\"df-d87d77a5-9ec7-40d5-a784-f790a3bfaf44\" class=\"colab-df-container\">\n",
              "    <div>\n",
              "<style scoped>\n",
              "    .dataframe tbody tr th:only-of-type {\n",
              "        vertical-align: middle;\n",
              "    }\n",
              "\n",
              "    .dataframe tbody tr th {\n",
              "        vertical-align: top;\n",
              "    }\n",
              "\n",
              "    .dataframe thead th {\n",
              "        text-align: right;\n",
              "    }\n",
              "</style>\n",
              "<table border=\"1\" class=\"dataframe\">\n",
              "  <thead>\n",
              "    <tr style=\"text-align: right;\">\n",
              "      <th></th>\n",
              "      <th>sepal.length</th>\n",
              "      <th>sepal.width</th>\n",
              "      <th>petal.length</th>\n",
              "      <th>petal.width</th>\n",
              "      <th>variety</th>\n",
              "    </tr>\n",
              "  </thead>\n",
              "  <tbody>\n",
              "    <tr>\n",
              "      <th>0</th>\n",
              "      <td>5.1</td>\n",
              "      <td>3.5</td>\n",
              "      <td>1.4</td>\n",
              "      <td>0.2</td>\n",
              "      <td>0</td>\n",
              "    </tr>\n",
              "    <tr>\n",
              "      <th>1</th>\n",
              "      <td>4.9</td>\n",
              "      <td>3.0</td>\n",
              "      <td>1.4</td>\n",
              "      <td>0.2</td>\n",
              "      <td>0</td>\n",
              "    </tr>\n",
              "    <tr>\n",
              "      <th>2</th>\n",
              "      <td>4.7</td>\n",
              "      <td>3.2</td>\n",
              "      <td>1.3</td>\n",
              "      <td>0.2</td>\n",
              "      <td>0</td>\n",
              "    </tr>\n",
              "    <tr>\n",
              "      <th>3</th>\n",
              "      <td>4.6</td>\n",
              "      <td>3.1</td>\n",
              "      <td>1.5</td>\n",
              "      <td>0.2</td>\n",
              "      <td>0</td>\n",
              "    </tr>\n",
              "    <tr>\n",
              "      <th>4</th>\n",
              "      <td>5.0</td>\n",
              "      <td>3.6</td>\n",
              "      <td>1.4</td>\n",
              "      <td>0.2</td>\n",
              "      <td>0</td>\n",
              "    </tr>\n",
              "    <tr>\n",
              "      <th>...</th>\n",
              "      <td>...</td>\n",
              "      <td>...</td>\n",
              "      <td>...</td>\n",
              "      <td>...</td>\n",
              "      <td>...</td>\n",
              "    </tr>\n",
              "    <tr>\n",
              "      <th>145</th>\n",
              "      <td>6.7</td>\n",
              "      <td>3.0</td>\n",
              "      <td>5.2</td>\n",
              "      <td>2.3</td>\n",
              "      <td>2</td>\n",
              "    </tr>\n",
              "    <tr>\n",
              "      <th>146</th>\n",
              "      <td>6.3</td>\n",
              "      <td>2.5</td>\n",
              "      <td>5.0</td>\n",
              "      <td>1.9</td>\n",
              "      <td>2</td>\n",
              "    </tr>\n",
              "    <tr>\n",
              "      <th>147</th>\n",
              "      <td>6.5</td>\n",
              "      <td>3.0</td>\n",
              "      <td>5.2</td>\n",
              "      <td>2.0</td>\n",
              "      <td>2</td>\n",
              "    </tr>\n",
              "    <tr>\n",
              "      <th>148</th>\n",
              "      <td>6.2</td>\n",
              "      <td>3.4</td>\n",
              "      <td>5.4</td>\n",
              "      <td>2.3</td>\n",
              "      <td>2</td>\n",
              "    </tr>\n",
              "    <tr>\n",
              "      <th>149</th>\n",
              "      <td>5.9</td>\n",
              "      <td>3.0</td>\n",
              "      <td>5.1</td>\n",
              "      <td>1.8</td>\n",
              "      <td>2</td>\n",
              "    </tr>\n",
              "  </tbody>\n",
              "</table>\n",
              "<p>150 rows × 5 columns</p>\n",
              "</div>\n",
              "    <div class=\"colab-df-buttons\">\n",
              "\n",
              "  <div class=\"colab-df-container\">\n",
              "    <button class=\"colab-df-convert\" onclick=\"convertToInteractive('df-d87d77a5-9ec7-40d5-a784-f790a3bfaf44')\"\n",
              "            title=\"Convert this dataframe to an interactive table.\"\n",
              "            style=\"display:none;\">\n",
              "\n",
              "  <svg xmlns=\"http://www.w3.org/2000/svg\" height=\"24px\" viewBox=\"0 -960 960 960\">\n",
              "    <path d=\"M120-120v-720h720v720H120Zm60-500h600v-160H180v160Zm220 220h160v-160H400v160Zm0 220h160v-160H400v160ZM180-400h160v-160H180v160Zm440 0h160v-160H620v160ZM180-180h160v-160H180v160Zm440 0h160v-160H620v160Z\"/>\n",
              "  </svg>\n",
              "    </button>\n",
              "\n",
              "  <style>\n",
              "    .colab-df-container {\n",
              "      display:flex;\n",
              "      gap: 12px;\n",
              "    }\n",
              "\n",
              "    .colab-df-convert {\n",
              "      background-color: #E8F0FE;\n",
              "      border: none;\n",
              "      border-radius: 50%;\n",
              "      cursor: pointer;\n",
              "      display: none;\n",
              "      fill: #1967D2;\n",
              "      height: 32px;\n",
              "      padding: 0 0 0 0;\n",
              "      width: 32px;\n",
              "    }\n",
              "\n",
              "    .colab-df-convert:hover {\n",
              "      background-color: #E2EBFA;\n",
              "      box-shadow: 0px 1px 2px rgba(60, 64, 67, 0.3), 0px 1px 3px 1px rgba(60, 64, 67, 0.15);\n",
              "      fill: #174EA6;\n",
              "    }\n",
              "\n",
              "    .colab-df-buttons div {\n",
              "      margin-bottom: 4px;\n",
              "    }\n",
              "\n",
              "    [theme=dark] .colab-df-convert {\n",
              "      background-color: #3B4455;\n",
              "      fill: #D2E3FC;\n",
              "    }\n",
              "\n",
              "    [theme=dark] .colab-df-convert:hover {\n",
              "      background-color: #434B5C;\n",
              "      box-shadow: 0px 1px 3px 1px rgba(0, 0, 0, 0.15);\n",
              "      filter: drop-shadow(0px 1px 2px rgba(0, 0, 0, 0.3));\n",
              "      fill: #FFFFFF;\n",
              "    }\n",
              "  </style>\n",
              "\n",
              "    <script>\n",
              "      const buttonEl =\n",
              "        document.querySelector('#df-d87d77a5-9ec7-40d5-a784-f790a3bfaf44 button.colab-df-convert');\n",
              "      buttonEl.style.display =\n",
              "        google.colab.kernel.accessAllowed ? 'block' : 'none';\n",
              "\n",
              "      async function convertToInteractive(key) {\n",
              "        const element = document.querySelector('#df-d87d77a5-9ec7-40d5-a784-f790a3bfaf44');\n",
              "        const dataTable =\n",
              "          await google.colab.kernel.invokeFunction('convertToInteractive',\n",
              "                                                    [key], {});\n",
              "        if (!dataTable) return;\n",
              "\n",
              "        const docLinkHtml = 'Like what you see? Visit the ' +\n",
              "          '<a target=\"_blank\" href=https://colab.research.google.com/notebooks/data_table.ipynb>data table notebook</a>'\n",
              "          + ' to learn more about interactive tables.';\n",
              "        element.innerHTML = '';\n",
              "        dataTable['output_type'] = 'display_data';\n",
              "        await google.colab.output.renderOutput(dataTable, element);\n",
              "        const docLink = document.createElement('div');\n",
              "        docLink.innerHTML = docLinkHtml;\n",
              "        element.appendChild(docLink);\n",
              "      }\n",
              "    </script>\n",
              "  </div>\n",
              "\n",
              "\n",
              "<div id=\"df-e0edcf9a-bdd6-4ac8-b5cb-af8aba079577\">\n",
              "  <button class=\"colab-df-quickchart\" onclick=\"quickchart('df-e0edcf9a-bdd6-4ac8-b5cb-af8aba079577')\"\n",
              "            title=\"Suggest charts\"\n",
              "            style=\"display:none;\">\n",
              "\n",
              "<svg xmlns=\"http://www.w3.org/2000/svg\" height=\"24px\"viewBox=\"0 0 24 24\"\n",
              "     width=\"24px\">\n",
              "    <g>\n",
              "        <path d=\"M19 3H5c-1.1 0-2 .9-2 2v14c0 1.1.9 2 2 2h14c1.1 0 2-.9 2-2V5c0-1.1-.9-2-2-2zM9 17H7v-7h2v7zm4 0h-2V7h2v10zm4 0h-2v-4h2v4z\"/>\n",
              "    </g>\n",
              "</svg>\n",
              "  </button>\n",
              "\n",
              "<style>\n",
              "  .colab-df-quickchart {\n",
              "      --bg-color: #E8F0FE;\n",
              "      --fill-color: #1967D2;\n",
              "      --hover-bg-color: #E2EBFA;\n",
              "      --hover-fill-color: #174EA6;\n",
              "      --disabled-fill-color: #AAA;\n",
              "      --disabled-bg-color: #DDD;\n",
              "  }\n",
              "\n",
              "  [theme=dark] .colab-df-quickchart {\n",
              "      --bg-color: #3B4455;\n",
              "      --fill-color: #D2E3FC;\n",
              "      --hover-bg-color: #434B5C;\n",
              "      --hover-fill-color: #FFFFFF;\n",
              "      --disabled-bg-color: #3B4455;\n",
              "      --disabled-fill-color: #666;\n",
              "  }\n",
              "\n",
              "  .colab-df-quickchart {\n",
              "    background-color: var(--bg-color);\n",
              "    border: none;\n",
              "    border-radius: 50%;\n",
              "    cursor: pointer;\n",
              "    display: none;\n",
              "    fill: var(--fill-color);\n",
              "    height: 32px;\n",
              "    padding: 0;\n",
              "    width: 32px;\n",
              "  }\n",
              "\n",
              "  .colab-df-quickchart:hover {\n",
              "    background-color: var(--hover-bg-color);\n",
              "    box-shadow: 0 1px 2px rgba(60, 64, 67, 0.3), 0 1px 3px 1px rgba(60, 64, 67, 0.15);\n",
              "    fill: var(--button-hover-fill-color);\n",
              "  }\n",
              "\n",
              "  .colab-df-quickchart-complete:disabled,\n",
              "  .colab-df-quickchart-complete:disabled:hover {\n",
              "    background-color: var(--disabled-bg-color);\n",
              "    fill: var(--disabled-fill-color);\n",
              "    box-shadow: none;\n",
              "  }\n",
              "\n",
              "  .colab-df-spinner {\n",
              "    border: 2px solid var(--fill-color);\n",
              "    border-color: transparent;\n",
              "    border-bottom-color: var(--fill-color);\n",
              "    animation:\n",
              "      spin 1s steps(1) infinite;\n",
              "  }\n",
              "\n",
              "  @keyframes spin {\n",
              "    0% {\n",
              "      border-color: transparent;\n",
              "      border-bottom-color: var(--fill-color);\n",
              "      border-left-color: var(--fill-color);\n",
              "    }\n",
              "    20% {\n",
              "      border-color: transparent;\n",
              "      border-left-color: var(--fill-color);\n",
              "      border-top-color: var(--fill-color);\n",
              "    }\n",
              "    30% {\n",
              "      border-color: transparent;\n",
              "      border-left-color: var(--fill-color);\n",
              "      border-top-color: var(--fill-color);\n",
              "      border-right-color: var(--fill-color);\n",
              "    }\n",
              "    40% {\n",
              "      border-color: transparent;\n",
              "      border-right-color: var(--fill-color);\n",
              "      border-top-color: var(--fill-color);\n",
              "    }\n",
              "    60% {\n",
              "      border-color: transparent;\n",
              "      border-right-color: var(--fill-color);\n",
              "    }\n",
              "    80% {\n",
              "      border-color: transparent;\n",
              "      border-right-color: var(--fill-color);\n",
              "      border-bottom-color: var(--fill-color);\n",
              "    }\n",
              "    90% {\n",
              "      border-color: transparent;\n",
              "      border-bottom-color: var(--fill-color);\n",
              "    }\n",
              "  }\n",
              "</style>\n",
              "\n",
              "  <script>\n",
              "    async function quickchart(key) {\n",
              "      const quickchartButtonEl =\n",
              "        document.querySelector('#' + key + ' button');\n",
              "      quickchartButtonEl.disabled = true;  // To prevent multiple clicks.\n",
              "      quickchartButtonEl.classList.add('colab-df-spinner');\n",
              "      try {\n",
              "        const charts = await google.colab.kernel.invokeFunction(\n",
              "            'suggestCharts', [key], {});\n",
              "      } catch (error) {\n",
              "        console.error('Error during call to suggestCharts:', error);\n",
              "      }\n",
              "      quickchartButtonEl.classList.remove('colab-df-spinner');\n",
              "      quickchartButtonEl.classList.add('colab-df-quickchart-complete');\n",
              "    }\n",
              "    (() => {\n",
              "      let quickchartButtonEl =\n",
              "        document.querySelector('#df-e0edcf9a-bdd6-4ac8-b5cb-af8aba079577 button');\n",
              "      quickchartButtonEl.style.display =\n",
              "        google.colab.kernel.accessAllowed ? 'block' : 'none';\n",
              "    })();\n",
              "  </script>\n",
              "</div>\n",
              "\n",
              "  <div id=\"id_dc161650-b8a9-49e2-a59c-67bd93317e17\">\n",
              "    <style>\n",
              "      .colab-df-generate {\n",
              "        background-color: #E8F0FE;\n",
              "        border: none;\n",
              "        border-radius: 50%;\n",
              "        cursor: pointer;\n",
              "        display: none;\n",
              "        fill: #1967D2;\n",
              "        height: 32px;\n",
              "        padding: 0 0 0 0;\n",
              "        width: 32px;\n",
              "      }\n",
              "\n",
              "      .colab-df-generate:hover {\n",
              "        background-color: #E2EBFA;\n",
              "        box-shadow: 0px 1px 2px rgba(60, 64, 67, 0.3), 0px 1px 3px 1px rgba(60, 64, 67, 0.15);\n",
              "        fill: #174EA6;\n",
              "      }\n",
              "\n",
              "      [theme=dark] .colab-df-generate {\n",
              "        background-color: #3B4455;\n",
              "        fill: #D2E3FC;\n",
              "      }\n",
              "\n",
              "      [theme=dark] .colab-df-generate:hover {\n",
              "        background-color: #434B5C;\n",
              "        box-shadow: 0px 1px 3px 1px rgba(0, 0, 0, 0.15);\n",
              "        filter: drop-shadow(0px 1px 2px rgba(0, 0, 0, 0.3));\n",
              "        fill: #FFFFFF;\n",
              "      }\n",
              "    </style>\n",
              "    <button class=\"colab-df-generate\" onclick=\"generateWithVariable('my_df')\"\n",
              "            title=\"Generate code using this dataframe.\"\n",
              "            style=\"display:none;\">\n",
              "\n",
              "  <svg xmlns=\"http://www.w3.org/2000/svg\" height=\"24px\"viewBox=\"0 0 24 24\"\n",
              "       width=\"24px\">\n",
              "    <path d=\"M7,19H8.4L18.45,9,17,7.55,7,17.6ZM5,21V16.75L18.45,3.32a2,2,0,0,1,2.83,0l1.4,1.43a1.91,1.91,0,0,1,.58,1.4,1.91,1.91,0,0,1-.58,1.4L9.25,21ZM18.45,9,17,7.55Zm-12,3A5.31,5.31,0,0,0,4.9,8.1,5.31,5.31,0,0,0,1,6.5,5.31,5.31,0,0,0,4.9,4.9,5.31,5.31,0,0,0,6.5,1,5.31,5.31,0,0,0,8.1,4.9,5.31,5.31,0,0,0,12,6.5,5.46,5.46,0,0,0,6.5,12Z\"/>\n",
              "  </svg>\n",
              "    </button>\n",
              "    <script>\n",
              "      (() => {\n",
              "      const buttonEl =\n",
              "        document.querySelector('#id_dc161650-b8a9-49e2-a59c-67bd93317e17 button.colab-df-generate');\n",
              "      buttonEl.style.display =\n",
              "        google.colab.kernel.accessAllowed ? 'block' : 'none';\n",
              "\n",
              "      buttonEl.onclick = () => {\n",
              "        google.colab.notebook.generateWithVariable('my_df');\n",
              "      }\n",
              "      })();\n",
              "    </script>\n",
              "  </div>\n",
              "\n",
              "    </div>\n",
              "  </div>\n"
            ],
            "application/vnd.google.colaboratory.intrinsic+json": {
              "type": "dataframe",
              "variable_name": "my_df",
              "summary": "{\n  \"name\": \"my_df\",\n  \"rows\": 150,\n  \"fields\": [\n    {\n      \"column\": \"sepal.length\",\n      \"properties\": {\n        \"dtype\": \"number\",\n        \"std\": 0.8280661279778629,\n        \"min\": 4.3,\n        \"max\": 7.9,\n        \"num_unique_values\": 35,\n        \"samples\": [\n          6.2,\n          4.5,\n          5.6\n        ],\n        \"semantic_type\": \"\",\n        \"description\": \"\"\n      }\n    },\n    {\n      \"column\": \"sepal.width\",\n      \"properties\": {\n        \"dtype\": \"number\",\n        \"std\": 0.435866284936698,\n        \"min\": 2.0,\n        \"max\": 4.4,\n        \"num_unique_values\": 23,\n        \"samples\": [\n          2.3,\n          4.0,\n          3.5\n        ],\n        \"semantic_type\": \"\",\n        \"description\": \"\"\n      }\n    },\n    {\n      \"column\": \"petal.length\",\n      \"properties\": {\n        \"dtype\": \"number\",\n        \"std\": 1.7652982332594667,\n        \"min\": 1.0,\n        \"max\": 6.9,\n        \"num_unique_values\": 43,\n        \"samples\": [\n          6.7,\n          3.8,\n          3.7\n        ],\n        \"semantic_type\": \"\",\n        \"description\": \"\"\n      }\n    },\n    {\n      \"column\": \"petal.width\",\n      \"properties\": {\n        \"dtype\": \"number\",\n        \"std\": 0.7622376689603465,\n        \"min\": 0.1,\n        \"max\": 2.5,\n        \"num_unique_values\": 22,\n        \"samples\": [\n          0.2,\n          1.2,\n          1.3\n        ],\n        \"semantic_type\": \"\",\n        \"description\": \"\"\n      }\n    },\n    {\n      \"column\": \"variety\",\n      \"properties\": {\n        \"dtype\": \"number\",\n        \"std\": 0,\n        \"min\": 0,\n        \"max\": 2,\n        \"num_unique_values\": 3,\n        \"samples\": [\n          0,\n          1,\n          2\n        ],\n        \"semantic_type\": \"\",\n        \"description\": \"\"\n      }\n    }\n  ]\n}"
            }
          },
          "metadata": {},
          "execution_count": 51
        }
      ]
    },
    {
      "cell_type": "code",
      "source": [
        " x = my_df.drop(\"variety\", axis = 1)\n",
        " y = my_df[\"variety\"]"
      ],
      "metadata": {
        "id": "GfjhccXswRRo"
      },
      "execution_count": 52,
      "outputs": []
    },
    {
      "cell_type": "code",
      "source": [
        "X = x.values\n",
        "Y = y.values"
      ],
      "metadata": {
        "id": "a_UOrLV_w0wy"
      },
      "execution_count": 53,
      "outputs": []
    },
    {
      "cell_type": "code",
      "source": [
        "from sklearn.model_selection import train_test_split\n",
        "X_train, X_test, Y_train,  Y_test = train_test_split(X,Y, test_size = 0.2, random_state = 41)"
      ],
      "metadata": {
        "id": "mcP5W-FWw2Km"
      },
      "execution_count": 54,
      "outputs": []
    },
    {
      "cell_type": "code",
      "source": [
        "X_train= torch.FloatTensor(X_train)\n",
        "X_test = torch.FloatTensor(X_test)\n",
        "Y_train = torch.LongTensor(Y_train)\n",
        "Y_test = torch.LongTensor(Y_test)\n",
        "\n"
      ],
      "metadata": {
        "id": "O-i0qJz8zsAv"
      },
      "execution_count": 55,
      "outputs": []
    },
    {
      "cell_type": "code",
      "source": [
        "loss_function = nn.CrossEntropyLoss()\n",
        "optimizer = torch.optim.Adam(model.parameters(), lr = 0.01)"
      ],
      "metadata": {
        "id": "g2RoO3YhzRt_"
      },
      "execution_count": 56,
      "outputs": []
    },
    {
      "cell_type": "code",
      "source": [
        "model.parameters()"
      ],
      "metadata": {
        "id": "vAvL-HrA_S81",
        "outputId": "15658f40-d6e6-45e8-d6fa-f0cd15bfc99d",
        "colab": {
          "base_uri": "https://localhost:8080/"
        }
      },
      "execution_count": 62,
      "outputs": [
        {
          "output_type": "execute_result",
          "data": {
            "text/plain": [
              "<generator object Module.parameters at 0x7f1f62e8e180>"
            ]
          },
          "metadata": {},
          "execution_count": 62
        }
      ]
    },
    {
      "cell_type": "code",
      "source": [
        "epoch = 100\n",
        "loss = []\n",
        "for i in range(epoch):\n",
        "  y_pred =  model.forward_pass(X_train)\n",
        "  loss_cal = loss_function(y_pred, Y_train)\n",
        "  loss.append(loss_cal.detach().numpy())\n",
        "\n",
        "  if i % 10 == 0:\n",
        "    print(f\"epoch {i} loss is {loss_cal}\")\n",
        "\n",
        "  optimizer.zero_grad()\n",
        "  loss_cal.backward()\n",
        "  optimizer.step()\n",
        "\n",
        "\n",
        "\n"
      ],
      "metadata": {
        "id": "NvXmMxmuz9VC",
        "outputId": "914e1c8f-7ee1-4407-9add-23bea160c67b",
        "colab": {
          "base_uri": "https://localhost:8080/",
          "height": 356
        }
      },
      "execution_count": 58,
      "outputs": [
        {
          "output_type": "error",
          "ename": "AttributeError",
          "evalue": "'Model' object has no attribute 'out'",
          "traceback": [
            "\u001b[0;31m---------------------------------------------------------------------------\u001b[0m",
            "\u001b[0;31mAttributeError\u001b[0m                            Traceback (most recent call last)",
            "\u001b[0;32m<ipython-input-58-90a20898e916>\u001b[0m in \u001b[0;36m<cell line: 0>\u001b[0;34m()\u001b[0m\n\u001b[1;32m      2\u001b[0m \u001b[0mloss\u001b[0m \u001b[0;34m=\u001b[0m \u001b[0;34m[\u001b[0m\u001b[0;34m]\u001b[0m\u001b[0;34m\u001b[0m\u001b[0;34m\u001b[0m\u001b[0m\n\u001b[1;32m      3\u001b[0m \u001b[0;32mfor\u001b[0m \u001b[0mi\u001b[0m \u001b[0;32min\u001b[0m \u001b[0mrange\u001b[0m\u001b[0;34m(\u001b[0m\u001b[0mepoch\u001b[0m\u001b[0;34m)\u001b[0m\u001b[0;34m:\u001b[0m\u001b[0;34m\u001b[0m\u001b[0;34m\u001b[0m\u001b[0m\n\u001b[0;32m----> 4\u001b[0;31m   \u001b[0my_pred\u001b[0m \u001b[0;34m=\u001b[0m  \u001b[0mmodel\u001b[0m\u001b[0;34m.\u001b[0m\u001b[0mforward_pass\u001b[0m\u001b[0;34m(\u001b[0m\u001b[0mX_train\u001b[0m\u001b[0;34m)\u001b[0m\u001b[0;34m\u001b[0m\u001b[0;34m\u001b[0m\u001b[0m\n\u001b[0m\u001b[1;32m      5\u001b[0m   \u001b[0mloss_cal\u001b[0m \u001b[0;34m=\u001b[0m \u001b[0mloss_function\u001b[0m\u001b[0;34m(\u001b[0m\u001b[0my_pred\u001b[0m\u001b[0;34m,\u001b[0m \u001b[0mY_train\u001b[0m\u001b[0;34m)\u001b[0m\u001b[0;34m\u001b[0m\u001b[0;34m\u001b[0m\u001b[0m\n\u001b[1;32m      6\u001b[0m   \u001b[0mloss\u001b[0m\u001b[0;34m.\u001b[0m\u001b[0mappend\u001b[0m\u001b[0;34m(\u001b[0m\u001b[0mloss_cal\u001b[0m\u001b[0;34m.\u001b[0m\u001b[0mdetach\u001b[0m\u001b[0;34m(\u001b[0m\u001b[0;34m)\u001b[0m\u001b[0;34m.\u001b[0m\u001b[0mnumpy\u001b[0m\u001b[0;34m(\u001b[0m\u001b[0;34m)\u001b[0m\u001b[0;34m)\u001b[0m\u001b[0;34m\u001b[0m\u001b[0;34m\u001b[0m\u001b[0m\n",
            "\u001b[0;32m<ipython-input-44-6f54a8bed26a>\u001b[0m in \u001b[0;36mforward_pass\u001b[0;34m(self, x)\u001b[0m\n\u001b[1;32m      9\u001b[0m   \u001b[0;32mdef\u001b[0m \u001b[0mforward_pass\u001b[0m\u001b[0;34m(\u001b[0m\u001b[0mself\u001b[0m\u001b[0;34m,\u001b[0m \u001b[0mx\u001b[0m\u001b[0;34m)\u001b[0m\u001b[0;34m:\u001b[0m\u001b[0;34m\u001b[0m\u001b[0;34m\u001b[0m\u001b[0m\n\u001b[1;32m     10\u001b[0m     \u001b[0mx\u001b[0m \u001b[0;34m=\u001b[0m \u001b[0mF\u001b[0m\u001b[0;34m.\u001b[0m\u001b[0mrelu\u001b[0m\u001b[0;34m(\u001b[0m\u001b[0mself\u001b[0m\u001b[0;34m.\u001b[0m\u001b[0mfc1\u001b[0m\u001b[0;34m(\u001b[0m\u001b[0mx\u001b[0m\u001b[0;34m)\u001b[0m\u001b[0;34m)\u001b[0m\u001b[0;34m\u001b[0m\u001b[0;34m\u001b[0m\u001b[0m\n\u001b[0;32m---> 11\u001b[0;31m     \u001b[0mx\u001b[0m \u001b[0;34m=\u001b[0m \u001b[0mself\u001b[0m\u001b[0;34m.\u001b[0m\u001b[0mout\u001b[0m\u001b[0;34m(\u001b[0m\u001b[0mx\u001b[0m\u001b[0;34m)\u001b[0m\u001b[0;34m\u001b[0m\u001b[0;34m\u001b[0m\u001b[0m\n\u001b[0m\u001b[1;32m     12\u001b[0m     \u001b[0;32mreturn\u001b[0m \u001b[0mx\u001b[0m\u001b[0;34m\u001b[0m\u001b[0;34m\u001b[0m\u001b[0m\n\u001b[1;32m     13\u001b[0m \u001b[0;34m\u001b[0m\u001b[0m\n",
            "\u001b[0;32m/usr/local/lib/python3.11/dist-packages/torch/nn/modules/module.py\u001b[0m in \u001b[0;36m__getattr__\u001b[0;34m(self, name)\u001b[0m\n\u001b[1;32m   1929\u001b[0m             \u001b[0;32mif\u001b[0m \u001b[0mname\u001b[0m \u001b[0;32min\u001b[0m \u001b[0mmodules\u001b[0m\u001b[0;34m:\u001b[0m\u001b[0;34m\u001b[0m\u001b[0;34m\u001b[0m\u001b[0m\n\u001b[1;32m   1930\u001b[0m                 \u001b[0;32mreturn\u001b[0m \u001b[0mmodules\u001b[0m\u001b[0;34m[\u001b[0m\u001b[0mname\u001b[0m\u001b[0;34m]\u001b[0m\u001b[0;34m\u001b[0m\u001b[0;34m\u001b[0m\u001b[0m\n\u001b[0;32m-> 1931\u001b[0;31m         raise AttributeError(\n\u001b[0m\u001b[1;32m   1932\u001b[0m             \u001b[0;34mf\"'{type(self).__name__}' object has no attribute '{name}'\"\u001b[0m\u001b[0;34m\u001b[0m\u001b[0;34m\u001b[0m\u001b[0m\n\u001b[1;32m   1933\u001b[0m         )\n",
            "\u001b[0;31mAttributeError\u001b[0m: 'Model' object has no attribute 'out'"
          ]
        }
      ]
    },
    {
      "cell_type": "code",
      "source": [
        ""
      ],
      "metadata": {
        "id": "uUVmbv761LAJ"
      },
      "execution_count": null,
      "outputs": []
    }
  ]
}